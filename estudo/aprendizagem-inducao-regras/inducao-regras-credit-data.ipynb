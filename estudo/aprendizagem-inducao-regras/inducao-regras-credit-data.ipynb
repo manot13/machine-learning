{
 "cells": [
  {
   "cell_type": "code",
   "execution_count": 1,
   "metadata": {},
   "outputs": [],
   "source": [
    "import pandas as pd\n",
    "import numpy as np\n",
    "import seaborn as sns\n",
    "import matplotlib.pyplot as plt\n",
    "import plotly.express as px\n",
    "import pickle\n",
    "import Orange"
   ]
  },
  {
   "cell_type": "code",
   "execution_count": 5,
   "metadata": {},
   "outputs": [],
   "source": [
    "base_credit = Orange.data.Table('data/credit_data_regras.csv')"
   ]
  },
  {
   "cell_type": "code",
   "execution_count": 6,
   "metadata": {},
   "outputs": [
    {
     "data": {
      "text/plain": [
       "[income, age, loan | default]"
      ]
     },
     "execution_count": 6,
     "metadata": {},
     "output_type": "execute_result"
    }
   ],
   "source": [
    "base_credit.domain"
   ]
  },
  {
   "cell_type": "code",
   "execution_count": 7,
   "metadata": {},
   "outputs": [],
   "source": [
    "base_divida = Orange.evaluation.testing.sample(base_credit, n=0.25)"
   ]
  },
  {
   "cell_type": "code",
   "execution_count": 21,
   "metadata": {},
   "outputs": [
    {
     "data": {
      "text/plain": [
       "([[28753.3, 49.4035, 4990.37 | 0],\n",
       "  [58797.8, 53.4034, 8892.96 | 0],\n",
       "  [31092.3, 43.8322, 5617.99 | 0],\n",
       "  [47847.5, 26.6518, 8494.02 | 1],\n",
       "  [56217.3, 51.5823, 2866.59 | 0],\n",
       "  ...\n",
       " ],\n",
       " [[25817.4, 37.9455, 4115.48 | 0],\n",
       "  [45214.1, 18.3, 1779.73 | 0],\n",
       "  [64016.4, 44.277, 10048.4 | 0],\n",
       "  [43205.6, 23.1259, 4835.27 | 0],\n",
       "  [60432.2, 41.9223, 6300.87 | 0],\n",
       "  ...\n",
       " ])"
      ]
     },
     "execution_count": 21,
     "metadata": {},
     "output_type": "execute_result"
    }
   ],
   "source": [
    "base_divida"
   ]
  },
  {
   "cell_type": "code",
   "execution_count": 19,
   "metadata": {},
   "outputs": [
    {
     "data": {
      "text/plain": [
       "[[28753.3, 49.4035, 4990.37 | 0],\n",
       " [58797.8, 53.4034, 8892.96 | 0],\n",
       " [31092.3, 43.8322, 5617.99 | 0],\n",
       " [47847.5, 26.6518, 8494.02 | 1],\n",
       " [56217.3, 51.5823, 2866.59 | 0],\n",
       " ...\n",
       "]"
      ]
     },
     "execution_count": 19,
     "metadata": {},
     "output_type": "execute_result"
    }
   ],
   "source": [
    "base_divida[0]"
   ]
  },
  {
   "cell_type": "code",
   "execution_count": 10,
   "metadata": {},
   "outputs": [
    {
     "data": {
      "text/plain": [
       "[[25817.4, 37.9455, 4115.48 | 0],\n",
       " [45214.1, 18.3, 1779.73 | 0],\n",
       " [64016.4, 44.277, 10048.4 | 0],\n",
       " [43205.6, 23.1259, 4835.27 | 0],\n",
       " [60432.2, 41.9223, 6300.87 | 0],\n",
       " ...\n",
       "]"
      ]
     },
     "execution_count": 10,
     "metadata": {},
     "output_type": "execute_result"
    }
   ],
   "source": [
    "base_divida[1]"
   ]
  },
  {
   "cell_type": "code",
   "execution_count": 11,
   "metadata": {},
   "outputs": [],
   "source": [
    "base_treinamento = base_divida[1]\n",
    "base_teste = base_divida[0]"
   ]
  },
  {
   "cell_type": "code",
   "execution_count": 12,
   "metadata": {},
   "outputs": [
    {
     "data": {
      "text/plain": [
       "(1500, 500)"
      ]
     },
     "execution_count": 12,
     "metadata": {},
     "output_type": "execute_result"
    }
   ],
   "source": [
    "len(base_treinamento), len(base_teste)"
   ]
  },
  {
   "cell_type": "code",
   "execution_count": 13,
   "metadata": {},
   "outputs": [],
   "source": [
    "cn2 = Orange.classification.rules.CN2Learner()\n",
    "regras_credit = cn2(base_treinamento)"
   ]
  },
  {
   "cell_type": "code",
   "execution_count": 14,
   "metadata": {},
   "outputs": [
    {
     "name": "stdout",
     "output_type": "stream",
     "text": [
      "IF age>=34.9257164876908 THEN default=0 \n",
      "IF income>=69395.1164768077 THEN default=1 \n",
      "IF loan<=3052.5766906145695 AND income>=21771.129341796 THEN default=0 \n",
      "IF age>=34.669146894011604 THEN default=1 \n",
      "IF age<=18.055874488782102 AND income>=32197.6207010448 THEN default=0 \n",
      "IF loan>=7181.4785525792595 AND age>=29.2626339835115 THEN default=1 \n",
      "IF loan>=7708.31562497011 THEN default=1 \n",
      "IF income>=58132.4712652713 THEN default=0 \n",
      "IF loan>=6342.56790924236 THEN default=1 \n",
      "IF loan<=2639.7101263171 AND loan>=2639.7101263171 THEN default=1 \n",
      "IF loan<=2828.30861825601 AND age>=23.9998828670941 THEN default=0 \n",
      "IF income>=50360.6787929311 THEN default=0 \n",
      "IF loan>=5862.83302915672 THEN default=1 \n",
      "IF income>=37162.8882177174 AND income>=44299.3717431091 THEN default=0 \n",
      "IF age>=33.656441235914805 THEN default=1 \n",
      "IF loan>=4849.33378471958 THEN default=1 \n",
      "IF income>=31702.3342987522 AND income>=38042.0841556042 THEN default=0 \n",
      "IF age>=22.2630956131034 AND age>=33.403173910453894 THEN default=0 \n",
      "IF loan<=2828.30861825601 AND age>=23.238169600255798 THEN default=1 \n",
      "IF loan<=2940.4239697461103 AND age>=28.0293198991567 THEN default=1 \n",
      "IF loan<=3052.5766906145695 AND age>=33.2805235567503 THEN default=1 \n",
      "IF loan<=3105.4430213977303 AND loan>=3105.4430213977303 THEN default=1 \n",
      "IF age<=19.9594523082487 AND income>=25833.7172260508 THEN default=1 \n",
      "IF income>=31702.3342987522 AND income>=33489.0398592688 THEN default=0 \n",
      "IF loan>=3665.88089899456 THEN default=1 \n",
      "IF income>=29724.4768752716 THEN default=0 \n",
      "IF income>=22832.3239297606 THEN default=1 \n",
      "IF income>=21481.8037860096 THEN default=0 \n",
      "IF income>=20629.3472950347 THEN default=1 \n",
      "IF age>=27.441609795671 THEN default=1 \n",
      "IF income<=20583.6121737957 THEN default=0 \n",
      "IF TRUE THEN default=0 \n"
     ]
    }
   ],
   "source": [
    "for regras in regras_credit.rule_list:\n",
    "    print(regras)"
   ]
  },
  {
   "cell_type": "code",
   "execution_count": 15,
   "metadata": {},
   "outputs": [],
   "source": [
    "previsoes = Orange.evaluation.testing.TestOnTestData(base_treinamento, base_teste, [lambda testdata: regras_credit])"
   ]
  },
  {
   "cell_type": "code",
   "execution_count": 16,
   "metadata": {},
   "outputs": [
    {
     "data": {
      "text/plain": [
       "<Orange.evaluation.testing.Results at 0x256b364c220>"
      ]
     },
     "execution_count": 16,
     "metadata": {},
     "output_type": "execute_result"
    }
   ],
   "source": [
    "previsoes"
   ]
  },
  {
   "cell_type": "code",
   "execution_count": 17,
   "metadata": {},
   "outputs": [
    {
     "data": {
      "text/plain": [
       "array([0.97])"
      ]
     },
     "execution_count": 17,
     "metadata": {},
     "output_type": "execute_result"
    }
   ],
   "source": [
    "Orange.evaluation.CA(previsoes)"
   ]
  },
  {
   "cell_type": "code",
   "execution_count": null,
   "metadata": {},
   "outputs": [],
   "source": []
  }
 ],
 "metadata": {
  "kernelspec": {
   "display_name": "Python 3",
   "language": "python",
   "name": "python3"
  },
  "language_info": {
   "codemirror_mode": {
    "name": "ipython",
    "version": 3
   },
   "file_extension": ".py",
   "mimetype": "text/x-python",
   "name": "python",
   "nbconvert_exporter": "python",
   "pygments_lexer": "ipython3",
   "version": "3.8.5"
  }
 },
 "nbformat": 4,
 "nbformat_minor": 4
}
