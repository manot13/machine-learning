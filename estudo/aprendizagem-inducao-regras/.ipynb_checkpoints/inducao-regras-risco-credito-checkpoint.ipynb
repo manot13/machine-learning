{
 "cells": [
  {
   "cell_type": "code",
   "execution_count": 1,
   "metadata": {
    "collapsed": true,
    "jupyter": {
     "outputs_hidden": true
    }
   },
   "outputs": [
    {
     "name": "stdout",
     "output_type": "stream",
     "text": [
      "Collecting Orange3"
     ]
    },
    {
     "name": "stderr",
     "output_type": "stream",
     "text": [
      "ERROR: After October 2020 you may experience errors when installing or updating packages. This is because pip will change the way that it resolves dependency conflicts.\n",
      "\n",
      "We recommend you use --use-feature=2020-resolver to test your packages with the new resolver before it becomes the default.\n",
      "\n",
      "spyder 4.1.5 requires pyqt5<5.13; python_version >= \"3\", but you'll have pyqt5 5.15.6 which is incompatible.\n",
      "spyder 4.1.5 requires pyqtwebengine<5.13; python_version >= \"3\", but you'll have pyqtwebengine 5.15.5 which is incompatible.\n"
     ]
    },
    {
     "name": "stdout",
     "output_type": "stream",
     "text": [
      "\n",
      "  Downloading Orange3-3.30.2-cp38-cp38-win_amd64.whl (26.4 MB)\n",
      "Collecting PyQt5!=5.15.1,>=5.12\n",
      "  Downloading PyQt5-5.15.6-cp36-abi3-win_amd64.whl (6.7 MB)\n",
      "Collecting python-louvain>=0.13\n",
      "  Downloading python-louvain-0.15.tar.gz (204 kB)\n",
      "Requirement already satisfied: setuptools>=36.3 in c:\\users\\natha\\anaconda3\\lib\\site-packages (from Orange3) (50.3.1.post20201107)\n",
      "Requirement already satisfied: bottleneck>=1.0.0 in c:\\users\\natha\\anaconda3\\lib\\site-packages (from Orange3) (1.3.2)\n",
      "Collecting PyQtWebEngine>=5.12\n",
      "  Downloading PyQtWebEngine-5.15.5-cp36-abi3-win_amd64.whl (181 kB)\n",
      "Requirement already satisfied: matplotlib>=2.0.0 in c:\\users\\natha\\anaconda3\\lib\\site-packages (from Orange3) (3.3.2)\n",
      "Requirement already satisfied: requests in c:\\users\\natha\\anaconda3\\lib\\site-packages (from Orange3) (2.24.0)\n",
      "Requirement already satisfied: chardet>=3.0.2 in c:\\users\\natha\\anaconda3\\lib\\site-packages (from Orange3) (3.0.4)\n",
      "Collecting serverfiles\n",
      "  Downloading serverfiles-0.3.1.tar.gz (11 kB)\n",
      "Collecting baycomp>=1.0.2\n",
      "  Downloading baycomp-1.0.2-py3-none-any.whl (17 kB)\n",
      "Requirement already satisfied: openpyxl in c:\\users\\natha\\anaconda3\\lib\\site-packages (from Orange3) (3.0.5)\n",
      "Collecting pyqtgraph>=0.11.1\n",
      "  Downloading pyqtgraph-0.12.3-py3-none-any.whl (992 kB)\n",
      "Collecting pygments>=2.8.0\n",
      "  Downloading Pygments-2.10.0-py3-none-any.whl (1.0 MB)\n",
      "Collecting openTSNE>=0.6.1\n",
      "  Downloading openTSNE-0.6.1-cp38-cp38-win_amd64.whl (422 kB)\n",
      "Requirement already satisfied: keyring in c:\\users\\natha\\anaconda3\\lib\\site-packages (from Orange3) (21.4.0)\n",
      "Collecting httpx<0.20,>=0.14.0\n",
      "  Downloading httpx-0.19.0-py3-none-any.whl (77 kB)\n",
      "Requirement already satisfied: pip>=9.0 in c:\\users\\natha\\anaconda3\\lib\\site-packages (from Orange3) (20.2.4)\n",
      "Requirement already satisfied: pandas>=1.0.0 in c:\\users\\natha\\anaconda3\\lib\\site-packages (from Orange3) (1.1.3)\n",
      "Requirement already satisfied: qtconsole>=4.7.2 in c:\\users\\natha\\anaconda3\\lib\\site-packages (from Orange3) (4.7.7)\n",
      "Collecting AnyQt>=0.0.11\n",
      "  Downloading AnyQt-0.0.13-py3-none-any.whl (47 kB)\n",
      "Requirement already satisfied: pyyaml in c:\\users\\natha\\anaconda3\\lib\\site-packages (from Orange3) (5.3.1)\n",
      "Requirement already satisfied: networkx in c:\\users\\natha\\anaconda3\\lib\\site-packages (from Orange3) (2.5)\n",
      "Requirement already satisfied: joblib>=0.9.4 in c:\\users\\natha\\anaconda3\\lib\\site-packages (from Orange3) (0.17.0)\n",
      "Requirement already satisfied: scipy>=0.16.1 in c:\\users\\natha\\anaconda3\\lib\\site-packages (from Orange3) (1.5.2)\n",
      "Collecting orange-canvas-core<0.2a,>=0.1.23\n",
      "  Downloading orange_canvas_core-0.1.23-py3-none-any.whl (489 kB)\n",
      "Requirement already satisfied: numpy>=1.16.0 in c:\\users\\natha\\anaconda3\\lib\\site-packages (from Orange3) (1.19.2)\n",
      "Requirement already satisfied: xlrd>=0.9.2 in c:\\users\\natha\\anaconda3\\lib\\site-packages (from Orange3) (1.2.0)\n",
      "Requirement already satisfied: xlsxwriter in c:\\users\\natha\\anaconda3\\lib\\site-packages (from Orange3) (1.3.7)\n",
      "Requirement already satisfied: scikit-learn!=0.23.0,!=1.0.0,>=0.22.0 in c:\\users\\natha\\anaconda3\\lib\\site-packages (from Orange3) (0.23.2)\n",
      "Collecting keyrings.alt\n",
      "  Downloading keyrings.alt-4.1.0-py3-none-any.whl (20 kB)\n",
      "Collecting orange-widget-base>=4.15.1\n",
      "  Downloading orange-widget-base-4.15.1.tar.gz (852 kB)\n",
      "Collecting PyQt5-Qt5>=5.15.2\n",
      "  Downloading PyQt5_Qt5-5.15.2-py3-none-win_amd64.whl (50.1 MB)\n",
      "Collecting PyQt5-sip<13,>=12.8\n",
      "  Downloading PyQt5_sip-12.9.0-cp38-cp38-win_amd64.whl (63 kB)\n",
      "Collecting PyQtWebEngine-Qt5>=5.15.2\n",
      "  Downloading PyQtWebEngine_Qt5-5.15.2-py3-none-win_amd64.whl (60.0 MB)\n",
      "Requirement already satisfied: pyparsing!=2.0.4,!=2.1.2,!=2.1.6,>=2.0.3 in c:\\users\\natha\\anaconda3\\lib\\site-packages (from matplotlib>=2.0.0->Orange3) (2.4.7)\n",
      "Requirement already satisfied: certifi>=2020.06.20 in c:\\users\\natha\\anaconda3\\lib\\site-packages (from matplotlib>=2.0.0->Orange3) (2020.6.20)\n",
      "Requirement already satisfied: python-dateutil>=2.1 in c:\\users\\natha\\anaconda3\\lib\\site-packages (from matplotlib>=2.0.0->Orange3) (2.8.1)\n",
      "Requirement already satisfied: kiwisolver>=1.0.1 in c:\\users\\natha\\anaconda3\\lib\\site-packages (from matplotlib>=2.0.0->Orange3) (1.3.0)\n",
      "Requirement already satisfied: pillow>=6.2.0 in c:\\users\\natha\\anaconda3\\lib\\site-packages (from matplotlib>=2.0.0->Orange3) (8.0.1)\n",
      "Requirement already satisfied: cycler>=0.10 in c:\\users\\natha\\anaconda3\\lib\\site-packages (from matplotlib>=2.0.0->Orange3) (0.10.0)\n",
      "Requirement already satisfied: idna<3,>=2.5 in c:\\users\\natha\\anaconda3\\lib\\site-packages (from requests->Orange3) (2.10)\n",
      "Requirement already satisfied: urllib3!=1.25.0,!=1.25.1,<1.26,>=1.21.1 in c:\\users\\natha\\anaconda3\\lib\\site-packages (from requests->Orange3) (1.25.11)\n",
      "Requirement already satisfied: jdcal in c:\\users\\natha\\anaconda3\\lib\\site-packages (from openpyxl->Orange3) (1.4.1)\n",
      "Requirement already satisfied: et-xmlfile in c:\\users\\natha\\anaconda3\\lib\\site-packages (from openpyxl->Orange3) (1.0.1)\n",
      "Requirement already satisfied: pywin32-ctypes!=0.1.0,!=0.1.1; sys_platform == \"win32\" in c:\\users\\natha\\anaconda3\\lib\\site-packages (from keyring->Orange3) (0.2.0)\n",
      "Collecting rfc3986[idna2008]<2,>=1.3\n",
      "  Downloading rfc3986-1.5.0-py2.py3-none-any.whl (31 kB)\n",
      "Collecting httpcore<0.14.0,>=0.13.3\n",
      "  Downloading httpcore-0.13.7-py3-none-any.whl (58 kB)\n",
      "Collecting sniffio\n",
      "  Downloading sniffio-1.2.0-py3-none-any.whl (10 kB)\n",
      "Collecting charset-normalizer\n",
      "  Downloading charset_normalizer-2.0.8-py3-none-any.whl (39 kB)\n",
      "Requirement already satisfied: pytz>=2017.2 in c:\\users\\natha\\anaconda3\\lib\\site-packages (from pandas>=1.0.0->Orange3) (2020.1)\n",
      "Requirement already satisfied: jupyter-core in c:\\users\\natha\\anaconda3\\lib\\site-packages (from qtconsole>=4.7.2->Orange3) (4.6.3)\n",
      "Requirement already satisfied: ipykernel>=4.1 in c:\\users\\natha\\anaconda3\\lib\\site-packages (from qtconsole>=4.7.2->Orange3) (5.3.4)\n",
      "Requirement already satisfied: traitlets in c:\\users\\natha\\anaconda3\\lib\\site-packages (from qtconsole>=4.7.2->Orange3) (5.0.5)\n",
      "Requirement already satisfied: qtpy in c:\\users\\natha\\anaconda3\\lib\\site-packages (from qtconsole>=4.7.2->Orange3) (1.9.0)\n",
      "Requirement already satisfied: pyzmq>=17.1 in c:\\users\\natha\\anaconda3\\lib\\site-packages (from qtconsole>=4.7.2->Orange3) (19.0.2)\n",
      "Requirement already satisfied: jupyter-client>=4.1 in c:\\users\\natha\\anaconda3\\lib\\site-packages (from qtconsole>=4.7.2->Orange3) (6.1.7)\n",
      "Requirement already satisfied: ipython-genutils in c:\\users\\natha\\anaconda3\\lib\\site-packages (from qtconsole>=4.7.2->Orange3) (0.2.0)\n",
      "Requirement already satisfied: decorator>=4.3.0 in c:\\users\\natha\\anaconda3\\lib\\site-packages (from networkx->Orange3) (4.4.2)\n",
      "Collecting cachecontrol[filecache]\n",
      "  Downloading CacheControl-0.12.10-py2.py3-none-any.whl (20 kB)\n",
      "Collecting commonmark>=0.8.1\n",
      "  Downloading commonmark-0.9.1-py2.py3-none-any.whl (51 kB)\n",
      "Collecting dictdiffer\n",
      "  Downloading dictdiffer-0.9.0-py2.py3-none-any.whl (16 kB)\n",
      "Collecting qasync\n",
      "  Downloading qasync-0.22.0-py3-none-any.whl (13 kB)\n",
      "Requirement already satisfied: docutils in c:\\users\\natha\\anaconda3\\lib\\site-packages (from orange-canvas-core<0.2a,>=0.1.23->Orange3) (0.16)\n",
      "Requirement already satisfied: threadpoolctl>=2.0.0 in c:\\users\\natha\\anaconda3\\lib\\site-packages (from scikit-learn!=0.23.0,!=1.0.0,>=0.22.0->Orange3) (2.1.0)\n",
      "Requirement already satisfied: typing_extensions>=3.7.4.3 in c:\\users\\natha\\anaconda3\\lib\\site-packages (from orange-widget-base>=4.15.1->Orange3) (3.7.4.3)\n",
      "Requirement already satisfied: six>=1.5 in c:\\users\\natha\\anaconda3\\lib\\site-packages (from python-dateutil>=2.1->matplotlib>=2.0.0->Orange3) (1.15.0)\n",
      "Collecting anyio==3.*\n",
      "  Downloading anyio-3.4.0-py3-none-any.whl (78 kB)\n",
      "Collecting h11<0.13,>=0.11\n",
      "  Downloading h11-0.12.0-py3-none-any.whl (54 kB)\n",
      "Requirement already satisfied: pywin32>=1.0; sys_platform == \"win32\" in c:\\users\\natha\\anaconda3\\lib\\site-packages (from jupyter-core->qtconsole>=4.7.2->Orange3) (227)\n",
      "Requirement already satisfied: ipython>=5.0.0 in c:\\users\\natha\\anaconda3\\lib\\site-packages (from ipykernel>=4.1->qtconsole>=4.7.2->Orange3) (7.19.0)\n",
      "Requirement already satisfied: tornado>=4.2 in c:\\users\\natha\\anaconda3\\lib\\site-packages (from ipykernel>=4.1->qtconsole>=4.7.2->Orange3) (6.0.4)\n",
      "Requirement already satisfied: msgpack>=0.5.2 in c:\\users\\natha\\anaconda3\\lib\\site-packages (from cachecontrol[filecache]->orange-canvas-core<0.2a,>=0.1.23->Orange3) (1.0.0)\n",
      "Collecting lockfile>=0.9; extra == \"filecache\"\n",
      "  Downloading lockfile-0.12.2-py2.py3-none-any.whl (13 kB)\n",
      "Requirement already satisfied: backcall in c:\\users\\natha\\anaconda3\\lib\\site-packages (from ipython>=5.0.0->ipykernel>=4.1->qtconsole>=4.7.2->Orange3) (0.2.0)\n",
      "Requirement already satisfied: jedi>=0.10 in c:\\users\\natha\\anaconda3\\lib\\site-packages (from ipython>=5.0.0->ipykernel>=4.1->qtconsole>=4.7.2->Orange3) (0.17.1)\n",
      "Requirement already satisfied: prompt-toolkit!=3.0.0,!=3.0.1,<3.1.0,>=2.0.0 in c:\\users\\natha\\anaconda3\\lib\\site-packages (from ipython>=5.0.0->ipykernel>=4.1->qtconsole>=4.7.2->Orange3) (3.0.8)\n",
      "Requirement already satisfied: colorama; sys_platform == \"win32\" in c:\\users\\natha\\anaconda3\\lib\\site-packages (from ipython>=5.0.0->ipykernel>=4.1->qtconsole>=4.7.2->Orange3) (0.4.4)\n",
      "Requirement already satisfied: pickleshare in c:\\users\\natha\\anaconda3\\lib\\site-packages (from ipython>=5.0.0->ipykernel>=4.1->qtconsole>=4.7.2->Orange3) (0.7.5)\n",
      "Requirement already satisfied: parso<0.8.0,>=0.7.0 in c:\\users\\natha\\anaconda3\\lib\\site-packages (from jedi>=0.10->ipython>=5.0.0->ipykernel>=4.1->qtconsole>=4.7.2->Orange3) (0.7.0)\n",
      "Requirement already satisfied: wcwidth in c:\\users\\natha\\anaconda3\\lib\\site-packages (from prompt-toolkit!=3.0.0,!=3.0.1,<3.1.0,>=2.0.0->ipython>=5.0.0->ipykernel>=4.1->qtconsole>=4.7.2->Orange3) (0.2.5)\n",
      "Building wheels for collected packages: python-louvain, serverfiles, orange-widget-base\n",
      "  Building wheel for python-louvain (setup.py): started\n",
      "  Building wheel for python-louvain (setup.py): finished with status 'done'\n",
      "  Created wheel for python-louvain: filename=python_louvain-0.15-py3-none-any.whl size=9406 sha256=1a6bb2573ca7886b9dd18b8417527547e3f92da055db6d999eb9874fb102aedb\n",
      "  Stored in directory: c:\\users\\natha\\appdata\\local\\pip\\cache\\wheels\\c8\\68\\21\\d04741956802581119d875a0d9fce6895e8f9ffae71223f3e3\n",
      "  Building wheel for serverfiles (setup.py): started\n",
      "  Building wheel for serverfiles (setup.py): finished with status 'done'\n",
      "  Created wheel for serverfiles: filename=serverfiles-0.3.1-py3-none-any.whl size=6939 sha256=52865459f460f9b16c340e155e913e4b0170ce9e0fc82af72d58cd9d07a3e102\n",
      "  Stored in directory: c:\\users\\natha\\appdata\\local\\pip\\cache\\wheels\\84\\4b\\a4\\233da5e4477309b7a6e38f3e48511005fcfd1e4a2a8c4be34f\n",
      "  Building wheel for orange-widget-base (setup.py): started\n",
      "  Building wheel for orange-widget-base (setup.py): finished with status 'done'\n",
      "  Created wheel for orange-widget-base: filename=orange_widget_base-4.15.1-py3-none-any.whl size=258171 sha256=7b06b8441314dcaf5563d05de4a46441420a7f2d3e2733726819d4b3fad5ecdb\n",
      "  Stored in directory: c:\\users\\natha\\appdata\\local\\pip\\cache\\wheels\\58\\63\\0e\\04ef24e1459bef6501b09c1d3fbbe880680edb39bb91cb885c\n",
      "Successfully built python-louvain serverfiles orange-widget-base\n",
      "Installing collected packages: PyQt5-Qt5, PyQt5-sip, PyQt5, python-louvain, PyQtWebEngine-Qt5, PyQtWebEngine, serverfiles, baycomp, pyqtgraph, pygments, openTSNE, rfc3986, sniffio, anyio, h11, httpcore, charset-normalizer, httpx, AnyQt, lockfile, cachecontrol, commonmark, dictdiffer, qasync, orange-canvas-core, keyrings.alt, orange-widget-base, Orange3\n",
      "  Attempting uninstall: pygments\n",
      "    Found existing installation: Pygments 2.7.2\n",
      "    Uninstalling Pygments-2.7.2:\n",
      "      Successfully uninstalled Pygments-2.7.2\n",
      "Successfully installed AnyQt-0.0.13 Orange3-3.30.2 PyQt5-5.15.6 PyQt5-Qt5-5.15.2 PyQt5-sip-12.9.0 PyQtWebEngine-5.15.5 PyQtWebEngine-Qt5-5.15.2 anyio-3.4.0 baycomp-1.0.2 cachecontrol-0.12.10 charset-normalizer-2.0.8 commonmark-0.9.1 dictdiffer-0.9.0 h11-0.12.0 httpcore-0.13.7 httpx-0.19.0 keyrings.alt-4.1.0 lockfile-0.12.2 openTSNE-0.6.1 orange-canvas-core-0.1.23 orange-widget-base-4.15.1 pygments-2.10.0 pyqtgraph-0.12.3 python-louvain-0.15 qasync-0.22.0 rfc3986-1.5.0 serverfiles-0.3.1 sniffio-1.2.0\n"
     ]
    }
   ],
   "source": [
    "!pip install Orange3"
   ]
  },
  {
   "cell_type": "code",
   "execution_count": 2,
   "metadata": {},
   "outputs": [],
   "source": [
    "import pandas as pd\n",
    "import numpy as np\n",
    "import seaborn as sns\n",
    "import matplotlib.pyplot as plt\n",
    "import plotly.express as px\n",
    "import pickle\n",
    "import Orange"
   ]
  },
  {
   "cell_type": "code",
   "execution_count": null,
   "metadata": {},
   "outputs": [],
   "source": [
    "base_risco_credito = Oragen.data.Table('risco_credito_regras.csv')"
   ]
  }
 ],
 "metadata": {
  "kernelspec": {
   "display_name": "Python 3",
   "language": "python",
   "name": "python3"
  },
  "language_info": {
   "codemirror_mode": {
    "name": "ipython",
    "version": 3
   },
   "file_extension": ".py",
   "mimetype": "text/x-python",
   "name": "python",
   "nbconvert_exporter": "python",
   "pygments_lexer": "ipython3",
   "version": "3.8.5"
  }
 },
 "nbformat": 4,
 "nbformat_minor": 4
}
