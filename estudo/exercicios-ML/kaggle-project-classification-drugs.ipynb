{
 "cells": [
  {
   "cell_type": "code",
   "execution_count": 1,
   "metadata": {},
   "outputs": [],
   "source": [
    "import pandas as pd\n",
    "import numpy as np\n",
    "from sklearn.preprocessing import StandardScaler\n",
    "from sklearn.model_selection import train_test_split\n",
    "from sklearn.metrics import accuracy_score, confusion_matrix, classification_report\n",
    "from yellowbrick.classifier import ConfusionMatrix\n",
    "from sklearn.preprocessing import LabelEncoder\n",
    "from sklearn.preprocessing import OneHotEncoder\n",
    "from sklearn.compose import ColumnTransformer\n",
    "from sklearn.impute import SimpleImputer\n",
    "from sklearn.naive_bayes import GaussianNB\n",
    "from sklearn.tree import DecisionTreeClassifier\n",
    "from sklearn.neighbors import KNeighborsClassifier\n",
    "from sklearn.ensemble import RandomForestClassifier"
   ]
  },
  {
   "cell_type": "code",
   "execution_count": 2,
   "metadata": {},
   "outputs": [],
   "source": [
    "df = pd.read_csv('data/drug200.csv')"
   ]
  },
  {
   "cell_type": "code",
   "execution_count": 3,
   "metadata": {},
   "outputs": [
    {
     "data": {
      "text/html": [
       "<div>\n",
       "<style scoped>\n",
       "    .dataframe tbody tr th:only-of-type {\n",
       "        vertical-align: middle;\n",
       "    }\n",
       "\n",
       "    .dataframe tbody tr th {\n",
       "        vertical-align: top;\n",
       "    }\n",
       "\n",
       "    .dataframe thead th {\n",
       "        text-align: right;\n",
       "    }\n",
       "</style>\n",
       "<table border=\"1\" class=\"dataframe\">\n",
       "  <thead>\n",
       "    <tr style=\"text-align: right;\">\n",
       "      <th></th>\n",
       "      <th>Age</th>\n",
       "      <th>Sex</th>\n",
       "      <th>BP</th>\n",
       "      <th>Cholesterol</th>\n",
       "      <th>Na_to_K</th>\n",
       "      <th>Drug</th>\n",
       "    </tr>\n",
       "  </thead>\n",
       "  <tbody>\n",
       "    <tr>\n",
       "      <th>0</th>\n",
       "      <td>23</td>\n",
       "      <td>F</td>\n",
       "      <td>HIGH</td>\n",
       "      <td>HIGH</td>\n",
       "      <td>25.355</td>\n",
       "      <td>DrugY</td>\n",
       "    </tr>\n",
       "    <tr>\n",
       "      <th>1</th>\n",
       "      <td>47</td>\n",
       "      <td>M</td>\n",
       "      <td>LOW</td>\n",
       "      <td>HIGH</td>\n",
       "      <td>13.093</td>\n",
       "      <td>drugC</td>\n",
       "    </tr>\n",
       "    <tr>\n",
       "      <th>2</th>\n",
       "      <td>47</td>\n",
       "      <td>M</td>\n",
       "      <td>LOW</td>\n",
       "      <td>HIGH</td>\n",
       "      <td>10.114</td>\n",
       "      <td>drugC</td>\n",
       "    </tr>\n",
       "    <tr>\n",
       "      <th>3</th>\n",
       "      <td>28</td>\n",
       "      <td>F</td>\n",
       "      <td>NORMAL</td>\n",
       "      <td>HIGH</td>\n",
       "      <td>7.798</td>\n",
       "      <td>drugX</td>\n",
       "    </tr>\n",
       "    <tr>\n",
       "      <th>4</th>\n",
       "      <td>61</td>\n",
       "      <td>F</td>\n",
       "      <td>LOW</td>\n",
       "      <td>HIGH</td>\n",
       "      <td>18.043</td>\n",
       "      <td>DrugY</td>\n",
       "    </tr>\n",
       "    <tr>\n",
       "      <th>...</th>\n",
       "      <td>...</td>\n",
       "      <td>...</td>\n",
       "      <td>...</td>\n",
       "      <td>...</td>\n",
       "      <td>...</td>\n",
       "      <td>...</td>\n",
       "    </tr>\n",
       "    <tr>\n",
       "      <th>195</th>\n",
       "      <td>56</td>\n",
       "      <td>F</td>\n",
       "      <td>LOW</td>\n",
       "      <td>HIGH</td>\n",
       "      <td>11.567</td>\n",
       "      <td>drugC</td>\n",
       "    </tr>\n",
       "    <tr>\n",
       "      <th>196</th>\n",
       "      <td>16</td>\n",
       "      <td>M</td>\n",
       "      <td>LOW</td>\n",
       "      <td>HIGH</td>\n",
       "      <td>12.006</td>\n",
       "      <td>drugC</td>\n",
       "    </tr>\n",
       "    <tr>\n",
       "      <th>197</th>\n",
       "      <td>52</td>\n",
       "      <td>M</td>\n",
       "      <td>NORMAL</td>\n",
       "      <td>HIGH</td>\n",
       "      <td>9.894</td>\n",
       "      <td>drugX</td>\n",
       "    </tr>\n",
       "    <tr>\n",
       "      <th>198</th>\n",
       "      <td>23</td>\n",
       "      <td>M</td>\n",
       "      <td>NORMAL</td>\n",
       "      <td>NORMAL</td>\n",
       "      <td>14.020</td>\n",
       "      <td>drugX</td>\n",
       "    </tr>\n",
       "    <tr>\n",
       "      <th>199</th>\n",
       "      <td>40</td>\n",
       "      <td>F</td>\n",
       "      <td>LOW</td>\n",
       "      <td>NORMAL</td>\n",
       "      <td>11.349</td>\n",
       "      <td>drugX</td>\n",
       "    </tr>\n",
       "  </tbody>\n",
       "</table>\n",
       "<p>200 rows × 6 columns</p>\n",
       "</div>"
      ],
      "text/plain": [
       "     Age Sex      BP Cholesterol  Na_to_K   Drug\n",
       "0     23   F    HIGH        HIGH   25.355  DrugY\n",
       "1     47   M     LOW        HIGH   13.093  drugC\n",
       "2     47   M     LOW        HIGH   10.114  drugC\n",
       "3     28   F  NORMAL        HIGH    7.798  drugX\n",
       "4     61   F     LOW        HIGH   18.043  DrugY\n",
       "..   ...  ..     ...         ...      ...    ...\n",
       "195   56   F     LOW        HIGH   11.567  drugC\n",
       "196   16   M     LOW        HIGH   12.006  drugC\n",
       "197   52   M  NORMAL        HIGH    9.894  drugX\n",
       "198   23   M  NORMAL      NORMAL   14.020  drugX\n",
       "199   40   F     LOW      NORMAL   11.349  drugX\n",
       "\n",
       "[200 rows x 6 columns]"
      ]
     },
     "execution_count": 3,
     "metadata": {},
     "output_type": "execute_result"
    }
   ],
   "source": [
    "df"
   ]
  },
  {
   "cell_type": "code",
   "execution_count": 4,
   "metadata": {},
   "outputs": [
    {
     "data": {
      "text/plain": [
       "Age            0\n",
       "Sex            0\n",
       "BP             0\n",
       "Cholesterol    0\n",
       "Na_to_K        0\n",
       "Drug           0\n",
       "dtype: int64"
      ]
     },
     "execution_count": 4,
     "metadata": {},
     "output_type": "execute_result"
    }
   ],
   "source": [
    "df.isnull().sum()"
   ]
  },
  {
   "cell_type": "code",
   "execution_count": 5,
   "metadata": {},
   "outputs": [],
   "source": [
    "x_drugs = df.iloc[:, 0:5].values"
   ]
  },
  {
   "cell_type": "code",
   "execution_count": 6,
   "metadata": {},
   "outputs": [],
   "source": [
    "y_drugs = df.iloc[:, 5].values"
   ]
  },
  {
   "cell_type": "code",
   "execution_count": 7,
   "metadata": {},
   "outputs": [],
   "source": [
    "label_encoder_sex = LabelEncoder()\n",
    "label_encoder_bp = LabelEncoder()\n",
    "label_encoder_cholesterol = LabelEncoder()"
   ]
  },
  {
   "cell_type": "code",
   "execution_count": 8,
   "metadata": {},
   "outputs": [],
   "source": [
    "x_drugs[:, 1] = label_encoder_sex.fit_transform(x_drugs[:, 1])\n",
    "x_drugs[:, 2] = label_encoder_bp.fit_transform(x_drugs[:, 2])\n",
    "x_drugs[:, 3] = label_encoder_cholesterol.fit_transform(x_drugs[:, 3])"
   ]
  },
  {
   "cell_type": "code",
   "execution_count": 9,
   "metadata": {
    "collapsed": true,
    "jupyter": {
     "outputs_hidden": true
    }
   },
   "outputs": [
    {
     "data": {
      "text/plain": [
       "array([[23, 0, 0, 0, 25.355],\n",
       "       [47, 1, 1, 0, 13.093],\n",
       "       [47, 1, 1, 0, 10.113999999999999],\n",
       "       [28, 0, 2, 0, 7.797999999999999],\n",
       "       [61, 0, 1, 0, 18.043],\n",
       "       [22, 0, 2, 0, 8.607000000000001],\n",
       "       [49, 0, 2, 0, 16.275],\n",
       "       [41, 1, 1, 0, 11.037],\n",
       "       [60, 1, 2, 0, 15.171],\n",
       "       [43, 1, 1, 1, 19.368],\n",
       "       [47, 0, 1, 0, 11.767000000000001],\n",
       "       [34, 0, 0, 1, 19.199],\n",
       "       [43, 1, 1, 0, 15.376],\n",
       "       [74, 0, 1, 0, 20.941999999999997],\n",
       "       [50, 0, 2, 0, 12.703],\n",
       "       [16, 0, 0, 1, 15.515999999999998],\n",
       "       [69, 1, 1, 1, 11.455],\n",
       "       [43, 1, 0, 0, 13.972000000000001],\n",
       "       [23, 1, 1, 0, 7.297999999999999],\n",
       "       [32, 0, 0, 1, 25.974],\n",
       "       [57, 1, 1, 1, 19.128],\n",
       "       [63, 1, 2, 0, 25.916999999999998],\n",
       "       [47, 1, 1, 1, 30.568],\n",
       "       [48, 0, 1, 0, 15.036],\n",
       "       [33, 0, 1, 0, 33.486],\n",
       "       [28, 0, 0, 1, 18.809],\n",
       "       [31, 1, 0, 0, 30.366],\n",
       "       [49, 0, 2, 1, 9.381],\n",
       "       [39, 0, 1, 1, 22.697],\n",
       "       [45, 1, 1, 0, 17.951],\n",
       "       [18, 0, 2, 1, 8.75],\n",
       "       [74, 1, 0, 0, 9.567],\n",
       "       [49, 1, 1, 1, 11.014000000000001],\n",
       "       [65, 0, 0, 1, 31.875999999999998],\n",
       "       [53, 1, 2, 0, 14.133],\n",
       "       [46, 1, 2, 1, 7.285],\n",
       "       [32, 1, 0, 1, 9.445],\n",
       "       [39, 1, 1, 1, 13.937999999999999],\n",
       "       [39, 0, 2, 1, 9.709],\n",
       "       [15, 1, 2, 0, 9.084],\n",
       "       [73, 0, 2, 0, 19.221],\n",
       "       [58, 0, 0, 1, 14.239],\n",
       "       [50, 1, 2, 1, 15.79],\n",
       "       [23, 1, 2, 0, 12.26],\n",
       "       [50, 0, 2, 1, 12.295],\n",
       "       [66, 0, 2, 1, 8.107000000000001],\n",
       "       [37, 0, 0, 0, 13.091],\n",
       "       [68, 1, 1, 0, 10.290999999999999],\n",
       "       [23, 1, 2, 0, 31.686],\n",
       "       [28, 0, 1, 0, 19.796],\n",
       "       [58, 0, 0, 0, 19.416],\n",
       "       [67, 1, 2, 1, 10.898],\n",
       "       [62, 1, 1, 1, 27.183000000000003],\n",
       "       [24, 0, 0, 1, 18.457],\n",
       "       [68, 0, 0, 1, 10.189],\n",
       "       [26, 0, 1, 0, 14.16],\n",
       "       [65, 1, 0, 1, 11.34],\n",
       "       [40, 1, 0, 0, 27.826],\n",
       "       [60, 1, 2, 1, 10.091000000000001],\n",
       "       [34, 1, 0, 0, 18.703],\n",
       "       [38, 0, 1, 1, 29.875],\n",
       "       [24, 1, 0, 1, 9.475],\n",
       "       [67, 1, 1, 1, 20.693],\n",
       "       [45, 1, 1, 1, 8.37],\n",
       "       [60, 0, 0, 0, 13.302999999999999],\n",
       "       [68, 0, 2, 1, 27.05],\n",
       "       [29, 1, 0, 0, 12.856],\n",
       "       [17, 1, 2, 1, 10.832],\n",
       "       [54, 1, 2, 0, 24.658],\n",
       "       [18, 0, 0, 1, 24.276],\n",
       "       [70, 1, 0, 0, 13.967],\n",
       "       [28, 0, 2, 0, 19.675],\n",
       "       [24, 0, 2, 0, 10.605],\n",
       "       [41, 0, 2, 1, 22.905],\n",
       "       [31, 1, 0, 1, 17.069000000000003],\n",
       "       [26, 1, 1, 1, 20.909000000000002],\n",
       "       [36, 0, 0, 0, 11.198],\n",
       "       [26, 0, 0, 1, 19.160999999999998],\n",
       "       [19, 0, 0, 0, 13.312999999999999],\n",
       "       [32, 0, 1, 1, 10.84],\n",
       "       [60, 1, 0, 0, 13.934000000000001],\n",
       "       [64, 1, 2, 0, 7.761],\n",
       "       [32, 0, 1, 0, 9.712],\n",
       "       [38, 0, 0, 1, 11.325999999999999],\n",
       "       [47, 0, 1, 0, 10.067],\n",
       "       [59, 1, 0, 0, 13.935],\n",
       "       [51, 0, 2, 0, 13.597000000000001],\n",
       "       [69, 1, 1, 0, 15.478],\n",
       "       [37, 0, 0, 1, 23.090999999999998],\n",
       "       [50, 0, 2, 1, 17.211],\n",
       "       [62, 1, 2, 0, 16.594],\n",
       "       [41, 1, 0, 1, 15.155999999999999],\n",
       "       [29, 0, 0, 0, 29.45],\n",
       "       [42, 0, 1, 1, 29.271],\n",
       "       [56, 1, 1, 0, 15.015],\n",
       "       [36, 1, 1, 1, 11.424000000000001],\n",
       "       [58, 0, 1, 0, 38.247],\n",
       "       [56, 0, 0, 0, 25.395],\n",
       "       [20, 1, 0, 1, 35.639],\n",
       "       [15, 0, 0, 1, 16.725],\n",
       "       [31, 1, 0, 1, 11.870999999999999],\n",
       "       [45, 0, 0, 0, 12.854000000000001],\n",
       "       [28, 0, 1, 0, 13.127],\n",
       "       [56, 1, 2, 0, 8.966000000000001],\n",
       "       [22, 1, 0, 1, 28.294],\n",
       "       [37, 1, 1, 1, 8.968],\n",
       "       [22, 1, 2, 0, 11.953],\n",
       "       [42, 1, 1, 0, 20.012999999999998],\n",
       "       [72, 1, 0, 1, 9.677],\n",
       "       [23, 1, 2, 0, 16.85],\n",
       "       [50, 1, 0, 0, 7.49],\n",
       "       [47, 0, 2, 1, 6.683],\n",
       "       [35, 1, 1, 1, 9.17],\n",
       "       [65, 0, 1, 1, 13.769],\n",
       "       [20, 0, 2, 1, 9.281],\n",
       "       [51, 1, 0, 0, 18.295],\n",
       "       [67, 1, 2, 1, 9.514],\n",
       "       [40, 0, 2, 0, 10.103],\n",
       "       [32, 0, 0, 1, 10.292],\n",
       "       [61, 0, 0, 0, 25.475],\n",
       "       [28, 1, 2, 0, 27.064],\n",
       "       [15, 1, 0, 1, 17.206],\n",
       "       [34, 1, 2, 0, 22.456],\n",
       "       [36, 0, 2, 0, 16.753],\n",
       "       [53, 0, 0, 1, 12.495],\n",
       "       [19, 0, 0, 1, 25.969],\n",
       "       [66, 1, 0, 0, 16.347],\n",
       "       [35, 1, 2, 1, 7.845],\n",
       "       [47, 1, 1, 1, 33.542],\n",
       "       [32, 0, 2, 0, 7.477],\n",
       "       [70, 0, 2, 0, 20.489],\n",
       "       [52, 1, 1, 1, 32.922],\n",
       "       [49, 1, 1, 1, 13.597999999999999],\n",
       "       [24, 1, 2, 0, 25.785999999999998],\n",
       "       [42, 0, 0, 0, 21.035999999999998],\n",
       "       [74, 1, 1, 1, 11.939],\n",
       "       [55, 0, 0, 0, 10.977],\n",
       "       [35, 0, 0, 0, 12.894],\n",
       "       [51, 1, 0, 1, 11.343],\n",
       "       [69, 0, 2, 0, 10.065],\n",
       "       [49, 1, 0, 1, 6.269],\n",
       "       [64, 0, 1, 1, 25.741],\n",
       "       [60, 1, 0, 1, 8.621],\n",
       "       [74, 1, 0, 1, 15.436],\n",
       "       [39, 1, 0, 0, 9.664],\n",
       "       [61, 1, 2, 0, 9.443],\n",
       "       [37, 0, 1, 1, 12.005999999999998],\n",
       "       [26, 0, 0, 1, 12.307],\n",
       "       [61, 0, 1, 1, 7.34],\n",
       "       [22, 1, 1, 0, 8.151],\n",
       "       [49, 1, 0, 1, 8.7],\n",
       "       [68, 1, 0, 0, 11.009],\n",
       "       [55, 1, 2, 1, 7.261],\n",
       "       [72, 0, 1, 1, 14.642000000000001],\n",
       "       [37, 1, 1, 1, 16.724],\n",
       "       [49, 1, 1, 0, 10.537],\n",
       "       [31, 1, 0, 1, 11.227],\n",
       "       [53, 1, 1, 0, 22.963],\n",
       "       [59, 0, 1, 0, 10.444],\n",
       "       [34, 0, 1, 1, 12.923],\n",
       "       [30, 0, 2, 0, 10.443],\n",
       "       [57, 0, 0, 1, 9.945],\n",
       "       [43, 1, 2, 1, 12.859000000000002],\n",
       "       [21, 0, 0, 1, 28.631999999999998],\n",
       "       [16, 1, 0, 1, 19.007],\n",
       "       [38, 1, 1, 0, 18.295],\n",
       "       [58, 0, 1, 0, 26.645],\n",
       "       [57, 0, 2, 0, 14.216],\n",
       "       [51, 0, 1, 1, 23.003],\n",
       "       [20, 0, 0, 0, 11.262],\n",
       "       [28, 0, 2, 0, 12.879000000000001],\n",
       "       [45, 1, 1, 1, 10.017000000000001],\n",
       "       [39, 0, 2, 1, 17.225],\n",
       "       [41, 0, 1, 1, 18.739],\n",
       "       [42, 1, 0, 1, 12.765999999999998],\n",
       "       [73, 0, 0, 0, 18.348],\n",
       "       [48, 1, 0, 1, 10.446],\n",
       "       [25, 1, 2, 0, 19.011],\n",
       "       [39, 1, 2, 0, 15.969000000000001],\n",
       "       [67, 0, 2, 0, 15.890999999999998],\n",
       "       [22, 0, 0, 1, 22.818],\n",
       "       [59, 0, 2, 0, 13.884],\n",
       "       [20, 0, 1, 1, 11.686],\n",
       "       [36, 0, 0, 1, 15.49],\n",
       "       [18, 0, 0, 0, 37.188],\n",
       "       [57, 0, 2, 1, 25.893],\n",
       "       [70, 1, 0, 0, 9.849],\n",
       "       [47, 1, 0, 0, 10.402999999999999],\n",
       "       [65, 1, 0, 1, 34.997],\n",
       "       [64, 1, 0, 1, 20.932],\n",
       "       [58, 1, 0, 0, 18.991],\n",
       "       [23, 1, 0, 0, 8.011000000000001],\n",
       "       [72, 1, 1, 0, 16.31],\n",
       "       [72, 1, 1, 0, 6.769],\n",
       "       [46, 0, 0, 0, 34.686],\n",
       "       [56, 0, 1, 0, 11.567],\n",
       "       [16, 1, 1, 0, 12.005999999999998],\n",
       "       [52, 1, 2, 0, 9.894],\n",
       "       [23, 1, 2, 1, 14.02],\n",
       "       [40, 0, 1, 1, 11.349]], dtype=object)"
      ]
     },
     "execution_count": 9,
     "metadata": {},
     "output_type": "execute_result"
    }
   ],
   "source": [
    "x_drugs"
   ]
  },
  {
   "cell_type": "code",
   "execution_count": 10,
   "metadata": {},
   "outputs": [],
   "source": [
    "onehotencoder_drugs = ColumnTransformer(transformers=[('OneHot', OneHotEncoder(), [1, 2, 3])], remainder='passthrough')"
   ]
  },
  {
   "cell_type": "code",
   "execution_count": 11,
   "metadata": {},
   "outputs": [],
   "source": [
    "x_drugs = onehotencoder_drugs.fit_transform(x_drugs)"
   ]
  },
  {
   "cell_type": "code",
   "execution_count": 12,
   "metadata": {},
   "outputs": [
    {
     "data": {
      "text/plain": [
       "(200, 9)"
      ]
     },
     "execution_count": 12,
     "metadata": {},
     "output_type": "execute_result"
    }
   ],
   "source": [
    "x_drugs.shape"
   ]
  },
  {
   "cell_type": "code",
   "execution_count": 13,
   "metadata": {},
   "outputs": [],
   "source": [
    "scaler_drugs = StandardScaler()\n",
    "x_drugs = scaler_drugs.fit_transform(x_drugs)"
   ]
  },
  {
   "cell_type": "code",
   "execution_count": 14,
   "metadata": {},
   "outputs": [
    {
     "data": {
      "text/plain": [
       "array([[ 1.040833  , -1.040833  ,  1.26388393, ..., -0.97043679,\n",
       "        -1.29159102,  1.28652212],\n",
       "       [-0.96076892,  0.96076892, -0.79121189, ..., -0.97043679,\n",
       "         0.16269866, -0.4151454 ],\n",
       "       [-0.96076892,  0.96076892, -0.79121189, ..., -0.97043679,\n",
       "         0.16269866, -0.82855818],\n",
       "       ...,\n",
       "       [-0.96076892,  0.96076892, -0.79121189, ..., -0.97043679,\n",
       "         0.46567567, -0.85908883],\n",
       "       [-0.96076892,  0.96076892, -0.79121189, ...,  1.03046381,\n",
       "        -1.29159102, -0.28650033],\n",
       "       [ 1.040833  , -1.040833  , -0.79121189, ...,  1.03046381,\n",
       "        -0.26146916, -0.6571702 ]])"
      ]
     },
     "execution_count": 14,
     "metadata": {},
     "output_type": "execute_result"
    }
   ],
   "source": [
    "x_drugs"
   ]
  },
  {
   "cell_type": "code",
   "execution_count": 15,
   "metadata": {},
   "outputs": [],
   "source": [
    "x_drugs_treino, x_drugs_teste, y_drugs_treino, y_drugs_teste = train_test_split(x_drugs, y_drugs, test_size = 0.30, random_state=0)"
   ]
  },
  {
   "cell_type": "code",
   "execution_count": 16,
   "metadata": {},
   "outputs": [
    {
     "data": {
      "text/plain": [
       "((140, 9), (140,))"
      ]
     },
     "execution_count": 16,
     "metadata": {},
     "output_type": "execute_result"
    }
   ],
   "source": [
    "x_drugs_treino.shape, y_drugs_treino.shape"
   ]
  },
  {
   "cell_type": "code",
   "execution_count": 17,
   "metadata": {},
   "outputs": [
    {
     "data": {
      "text/plain": [
       "((60, 9), (60,))"
      ]
     },
     "execution_count": 17,
     "metadata": {},
     "output_type": "execute_result"
    }
   ],
   "source": [
    "x_drugs_teste.shape, y_drugs_teste.shape"
   ]
  },
  {
   "cell_type": "code",
   "execution_count": 18,
   "metadata": {},
   "outputs": [
    {
     "data": {
      "text/plain": [
       "GaussianNB()"
      ]
     },
     "execution_count": 18,
     "metadata": {},
     "output_type": "execute_result"
    }
   ],
   "source": [
    "naive_drugs = GaussianNB()\n",
    "naive_drugs.fit(x_drugs_treino, y_drugs_treino)"
   ]
  },
  {
   "cell_type": "code",
   "execution_count": 19,
   "metadata": {},
   "outputs": [
    {
     "data": {
      "text/plain": [
       "array(['drugC', 'drugX', 'drugC', 'DrugY', 'drugX', 'drugX', 'drugX',\n",
       "       'drugX', 'drugC', 'drugX', 'drugA', 'drugA', 'drugA', 'drugX',\n",
       "       'drugB', 'drugC', 'DrugY', 'drugX', 'drugX', 'drugA', 'drugA',\n",
       "       'drugX', 'drugX', 'drugX', 'DrugY', 'drugX', 'drugX', 'DrugY',\n",
       "       'DrugY', 'drugX', 'drugX', 'drugC', 'drugA', 'drugX', 'DrugY',\n",
       "       'drugB', 'drugX', 'drugC', 'drugA', 'drugX', 'drugA', 'drugA',\n",
       "       'DrugY', 'drugX', 'DrugY', 'drugX', 'drugX', 'DrugY', 'drugA',\n",
       "       'drugB', 'drugX', 'drugB', 'DrugY', 'drugA', 'drugC', 'DrugY',\n",
       "       'drugX', 'drugX', 'drugX', 'drugB'], dtype='<U5')"
      ]
     },
     "execution_count": 19,
     "metadata": {},
     "output_type": "execute_result"
    }
   ],
   "source": [
    "previsoes = naive_drugs.predict(x_drugs_teste)\n",
    "previsoes"
   ]
  },
  {
   "cell_type": "code",
   "execution_count": 20,
   "metadata": {},
   "outputs": [
    {
     "data": {
      "text/plain": [
       "array(['DrugY', 'drugC', 'drugC', 'drugX', 'DrugY', 'drugX', 'DrugY',\n",
       "       'drugC', 'DrugY', 'DrugY', 'drugC', 'DrugY', 'DrugY', 'DrugY',\n",
       "       'drugX', 'DrugY', 'drugX', 'drugA', 'drugC', 'DrugY', 'DrugY',\n",
       "       'DrugY', 'DrugY', 'DrugY', 'DrugY', 'DrugY', 'DrugY', 'drugX',\n",
       "       'DrugY', 'DrugY', 'drugX', 'drugB', 'drugX', 'DrugY', 'drugX',\n",
       "       'drugX', 'drugA', 'drugX', 'drugX', 'drugX', 'DrugY', 'drugB',\n",
       "       'DrugY', 'drugX', 'drugX', 'drugX', 'drugA', 'drugC', 'DrugY',\n",
       "       'DrugY', 'DrugY', 'drugX', 'DrugY', 'DrugY', 'drugB', 'drugC',\n",
       "       'drugB', 'DrugY', 'drugX', 'DrugY', 'DrugY', 'drugA', 'DrugY',\n",
       "       'drugX', 'drugB', 'DrugY', 'drugA', 'drugX', 'DrugY', 'DrugY',\n",
       "       'drugB', 'DrugY', 'drugX', 'DrugY', 'DrugY', 'DrugY', 'drugA',\n",
       "       'DrugY', 'drugA', 'drugX', 'drugB', 'drugX', 'drugC', 'drugA',\n",
       "       'drugC', 'drugB', 'drugX', 'DrugY', 'DrugY', 'DrugY', 'DrugY',\n",
       "       'DrugY', 'DrugY', 'DrugY', 'DrugY', 'drugX', 'DrugY', 'DrugY',\n",
       "       'DrugY', 'DrugY', 'drugA', 'drugA', 'drugC', 'drugX', 'DrugY',\n",
       "       'drugX', 'drugX', 'DrugY', 'drugB', 'DrugY', 'drugA', 'drugX',\n",
       "       'drugX', 'drugX', 'drugX', 'DrugY', 'drugX', 'drugX', 'drugA',\n",
       "       'DrugY', 'DrugY', 'DrugY', 'DrugY', 'DrugY', 'drugB', 'DrugY',\n",
       "       'DrugY', 'drugX', 'DrugY', 'drugX', 'DrugY', 'DrugY', 'drugX',\n",
       "       'DrugY', 'DrugY', 'drugX', 'drugB', 'drugA', 'drugB', 'drugX',\n",
       "       'drugA', 'DrugY', 'drugB', 'DrugY', 'drugA', 'drugX', 'drugX',\n",
       "       'drugA', 'drugX', 'drugC', 'drugA', 'drugB', 'drugX', 'drugX',\n",
       "       'DrugY', 'drugC', 'drugA', 'DrugY', 'drugC', 'drugX', 'drugX',\n",
       "       'drugB', 'drugX', 'DrugY', 'DrugY', 'DrugY', 'DrugY', 'drugX',\n",
       "       'DrugY', 'drugA', 'drugX', 'drugX', 'DrugY', 'DrugY', 'drugA',\n",
       "       'DrugY', 'drugA', 'DrugY', 'DrugY', 'DrugY', 'DrugY', 'drugX',\n",
       "       'drugX', 'DrugY', 'DrugY', 'DrugY', 'drugB', 'drugA', 'DrugY',\n",
       "       'DrugY', 'DrugY', 'drugA', 'DrugY', 'drugC', 'DrugY', 'drugC',\n",
       "       'drugC', 'drugX', 'drugX', 'drugX'], dtype=object)"
      ]
     },
     "execution_count": 20,
     "metadata": {},
     "output_type": "execute_result"
    }
   ],
   "source": [
    "y_drugs"
   ]
  },
  {
   "cell_type": "code",
   "execution_count": 21,
   "metadata": {},
   "outputs": [
    {
     "data": {
      "text/plain": [
       "0.6833333333333333"
      ]
     },
     "execution_count": 21,
     "metadata": {},
     "output_type": "execute_result"
    },
    {
     "data": {
      "image/png": "[encoded data removed]",
      "text/plain": [
       "<Figure size 576x396 with 1 Axes>"
      ]
     },
     "metadata": {},
     "output_type": "display_data"
    }
   ],
   "source": [
    "cm = ConfusionMatrix(naive_drugs)\n",
    "cm.fit(x_drugs_treino, y_drugs_treino)\n",
    "cm.score(x_drugs_teste, y_drugs_teste)"
   ]
  },
  {
   "cell_type": "markdown",
   "metadata": {},
   "source": [
    "Algoritmo Decision Tree"
   ]
  },
  {
   "cell_type": "code",
   "execution_count": 22,
   "metadata": {},
   "outputs": [
    {
     "data": {
      "text/plain": [
       "DecisionTreeClassifier(criterion='entropy', random_state=0)"
      ]
     },
     "execution_count": 22,
     "metadata": {},
     "output_type": "execute_result"
    }
   ],
   "source": [
    "arvore_drugs = DecisionTreeClassifier(criterion='entropy', random_state=0)\n",
    "arvore_drugs.fit(x_drugs_treino, y_drugs_treino)"
   ]
  },
  {
   "cell_type": "code",
   "execution_count": 23,
   "metadata": {},
   "outputs": [
    {
     "data": {
      "text/plain": [
       "array(['drugC', 'drugX', 'DrugY', 'DrugY', 'DrugY', 'drugX', 'drugX',\n",
       "       'drugX', 'DrugY', 'drugX', 'drugA', 'DrugY', 'DrugY', 'DrugY',\n",
       "       'drugB', 'drugC', 'DrugY', 'DrugY', 'drugX', 'DrugY', 'DrugY',\n",
       "       'drugX', 'drugX', 'drugX', 'DrugY', 'DrugY', 'DrugY', 'DrugY',\n",
       "       'DrugY', 'drugX', 'drugX', 'drugC', 'drugA', 'drugX', 'DrugY',\n",
       "       'DrugY', 'drugX', 'DrugY', 'drugA', 'drugX', 'DrugY', 'drugA',\n",
       "       'DrugY', 'drugX', 'DrugY', 'drugX', 'DrugY', 'DrugY', 'drugA',\n",
       "       'DrugY', 'DrugY', 'drugB', 'DrugY', 'DrugY', 'drugC', 'DrugY',\n",
       "       'drugX', 'drugX', 'DrugY', 'drugB'], dtype=object)"
      ]
     },
     "execution_count": 23,
     "metadata": {},
     "output_type": "execute_result"
    }
   ],
   "source": [
    "previsoes2 = arvore_drugs.predict(x_drugs_teste)\n",
    "previsoes2"
   ]
  },
  {
   "cell_type": "code",
   "execution_count": 24,
   "metadata": {},
   "outputs": [
    {
     "data": {
      "text/plain": [
       "1.0"
      ]
     },
     "execution_count": 24,
     "metadata": {},
     "output_type": "execute_result"
    },
    {
     "data": {
      "image/png": "[encoded data removed]",
      "text/plain": [
       "<Figure size 576x396 with 1 Axes>"
      ]
     },
     "metadata": {},
     "output_type": "display_data"
    }
   ],
   "source": [
    "cm = ConfusionMatrix(arvore_drugs)\n",
    "cm.fit(x_drugs_treino, y_drugs_treino)\n",
    "cm.score(x_drugs_teste, y_drugs_teste)"
   ]
  },
  {
   "cell_type": "markdown",
   "metadata": {},
   "source": [
    "Algoritmo KNN"
   ]
  },
  {
   "cell_type": "code",
   "execution_count": 25,
   "metadata": {},
   "outputs": [
    {
     "data": {
      "text/plain": [
       "KNeighborsClassifier(n_neighbors=20)"
      ]
     },
     "execution_count": 25,
     "metadata": {},
     "output_type": "execute_result"
    }
   ],
   "source": [
    "knn_drugs = KNeighborsClassifier(n_neighbors=20)\n",
    "knn_drugs.fit(x_drugs_treino, y_drugs_treino)"
   ]
  },
  {
   "cell_type": "code",
   "execution_count": 26,
   "metadata": {},
   "outputs": [
    {
     "data": {
      "text/plain": [
       "array(['drugC', 'drugX', 'DrugY', 'DrugY', 'DrugY', 'DrugY', 'drugX',\n",
       "       'drugX', 'DrugY', 'drugX', 'drugA', 'DrugY', 'DrugY', 'DrugY',\n",
       "       'drugB', 'drugC', 'DrugY', 'DrugY', 'DrugY', 'DrugY', 'DrugY',\n",
       "       'drugX', 'drugX', 'drugX', 'DrugY', 'drugX', 'drugX', 'DrugY',\n",
       "       'DrugY', 'drugX', 'drugX', 'drugC', 'drugA', 'drugX', 'DrugY',\n",
       "       'DrugY', 'drugX', 'DrugY', 'DrugY', 'drugX', 'DrugY', 'drugA',\n",
       "       'DrugY', 'DrugY', 'DrugY', 'drugX', 'drugX', 'DrugY', 'DrugY',\n",
       "       'drugB', 'DrugY', 'DrugY', 'DrugY', 'DrugY', 'drugC', 'DrugY',\n",
       "       'drugX', 'drugX', 'DrugY', 'drugB'], dtype=object)"
      ]
     },
     "execution_count": 26,
     "metadata": {},
     "output_type": "execute_result"
    }
   ],
   "source": [
    "previsoes3 = knn_drugs.predict(x_drugs_teste)\n",
    "previsoes3"
   ]
  },
  {
   "cell_type": "code",
   "execution_count": 27,
   "metadata": {},
   "outputs": [
    {
     "data": {
      "text/plain": [
       "0.8333333333333334"
      ]
     },
     "execution_count": 27,
     "metadata": {},
     "output_type": "execute_result"
    },
    {
     "data": {
      "image/png": "[encoded data removed]",
      "text/plain": [
       "<Figure size 576x396 with 1 Axes>"
      ]
     },
     "metadata": {},
     "output_type": "display_data"
    }
   ],
   "source": [
    "cm = ConfusionMatrix(knn_drugs)\n",
    "cm.fit(x_drugs_treino, y_drugs_treino)\n",
    "cm.score(x_drugs_teste, y_drugs_teste)"
   ]
  },
  {
   "cell_type": "code",
   "execution_count": 28,
   "metadata": {},
   "outputs": [
    {
     "data": {
      "text/plain": [
       "RandomForestClassifier(criterion='entropy', n_estimators=40, random_state=0)"
      ]
     },
     "execution_count": 28,
     "metadata": {},
     "output_type": "execute_result"
    }
   ],
   "source": [
    "random_forest_drugs = RandomForestClassifier(n_estimators=40, criterion='entropy', random_state=0)\n",
    "random_forest_drugs.fit(x_drugs_treino, y_drugs_treino)"
   ]
  },
  {
   "cell_type": "code",
   "execution_count": 29,
   "metadata": {},
   "outputs": [
    {
     "data": {
      "text/plain": [
       "array(['drugC', 'drugX', 'DrugY', 'DrugY', 'DrugY', 'drugX', 'drugX',\n",
       "       'drugX', 'DrugY', 'drugX', 'drugA', 'DrugY', 'DrugY', 'DrugY',\n",
       "       'drugB', 'drugC', 'DrugY', 'DrugY', 'drugX', 'DrugY', 'DrugY',\n",
       "       'drugX', 'drugX', 'drugX', 'DrugY', 'DrugY', 'DrugY', 'DrugY',\n",
       "       'DrugY', 'drugX', 'drugX', 'drugC', 'drugA', 'drugX', 'DrugY',\n",
       "       'DrugY', 'drugX', 'DrugY', 'drugA', 'drugX', 'DrugY', 'drugA',\n",
       "       'DrugY', 'drugX', 'DrugY', 'drugX', 'DrugY', 'DrugY', 'drugA',\n",
       "       'DrugY', 'DrugY', 'drugB', 'DrugY', 'DrugY', 'drugC', 'DrugY',\n",
       "       'drugX', 'drugX', 'DrugY', 'drugB'], dtype=object)"
      ]
     },
     "execution_count": 29,
     "metadata": {},
     "output_type": "execute_result"
    }
   ],
   "source": [
    "previsoes4 = random_forest_drugs.predict(x_drugs_teste)\n",
    "previsoes4"
   ]
  },
  {
   "cell_type": "code",
   "execution_count": 30,
   "metadata": {},
   "outputs": [
    {
     "data": {
      "text/plain": [
       "1.0"
      ]
     },
     "execution_count": 30,
     "metadata": {},
     "output_type": "execute_result"
    },
    {
     "data": {
      "image/png": "[encoded data removed]",
      "text/plain": [
       "<Figure size 576x396 with 1 Axes>"
      ]
     },
     "metadata": {},
     "output_type": "display_data"
    }
   ],
   "source": [
    "cm = ConfusionMatrix(random_forest_drugs)\n",
    "cm.fit(x_drugs_treino, y_drugs_treino)\n",
    "cm.score(x_drugs_teste, y_drugs_teste)"
   ]
  },
  {
   "cell_type": "code",
   "execution_count": null,
   "metadata": {},
   "outputs": [],
   "source": []
  }
 ],
 "metadata": {
  "kernelspec": {
   "display_name": "Python 3",
   "language": "python",
   "name": "python3"
  },
  "language_info": {
   "codemirror_mode": {
    "name": "ipython",
    "version": 3
   },
   "file_extension": ".py",
   "mimetype": "text/x-python",
   "name": "python",
   "nbconvert_exporter": "python",
   "pygments_lexer": "ipython3",
   "version": "3.8.5"
  }
 },
 "nbformat": 4,
 "nbformat_minor": 4
}
